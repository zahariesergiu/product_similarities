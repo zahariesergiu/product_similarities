{
 "cells": [
  {
   "cell_type": "code",
   "execution_count": 1,
   "id": "72d2fd8d-249b-49ec-8b24-160909b9730c",
   "metadata": {},
   "outputs": [],
   "source": [
    "from transformers import AutoTokenizer, AutoModel\n",
    "import torch\n",
    "import numpy as np\n",
    "\n",
    "from sklearn.metrics.pairwise import euclidean_distances"
   ]
  },
  {
   "cell_type": "code",
   "execution_count": 2,
   "id": "00267dea-1eac-481c-8c13-a883e6e22937",
   "metadata": {},
   "outputs": [
    {
     "name": "stderr",
     "output_type": "stream",
     "text": [
      "Some weights of the model checkpoint at dumitrescustefan/bert-base-romanian-cased-v1 were not used when initializing BertModel: ['cls.predictions.transform.dense.bias', 'cls.predictions.decoder.weight', 'cls.predictions.decoder.bias', 'cls.seq_relationship.bias', 'cls.predictions.transform.LayerNorm.bias', 'cls.predictions.bias', 'cls.predictions.transform.LayerNorm.weight', 'cls.seq_relationship.weight', 'cls.predictions.transform.dense.weight']\n",
      "- This IS expected if you are initializing BertModel from the checkpoint of a model trained on another task or with another architecture (e.g. initializing a BertForSequenceClassification model from a BertForPreTraining model).\n",
      "- This IS NOT expected if you are initializing BertModel from the checkpoint of a model that you expect to be exactly identical (initializing a BertForSequenceClassification model from a BertForSequenceClassification model).\n"
     ]
    }
   ],
   "source": [
    "# load tokenizer and model using bert romanian cased model\n",
    "# https://github.com/dumitrescustefan/Romanian-Transformers\n",
    "# https://huggingface.co/dumitrescustefan/bert-base-romanian-cased-v1\n",
    "\n",
    "tokenizer = AutoTokenizer.from_pretrained(\"dumitrescustefan/bert-base-romanian-cased-v1\")\n",
    "model = AutoModel.from_pretrained(\"dumitrescustefan/bert-base-romanian-cased-v1\")"
   ]
  },
  {
   "cell_type": "code",
   "execution_count": 3,
   "id": "e3376ceb-edb0-4652-b4c1-44f3581781f2",
   "metadata": {},
   "outputs": [],
   "source": [
    "doc1= \"Sos de roșii, mozzarella, salam picant, gorgonzola, ceapă roșie, peperoncini\"\n",
    "doc2 = \"Sos de roșii, mozzarella, șuncă, porumb, măsline, ciuperci, condimente\"\n",
    "doc3 = \"Sos de roșii, mozzarella, salam picant, gorgonzola, hribi\"\n",
    "doc4 = \"Sos de roșii, mozzarella, salam, condimente\"\n",
    "doc5 = \"Sos roșii, mozzarella, sare de mare, blat crocant la foc cu lemne\"\n",
    "\n",
    "doc6 = \"Penne, sos de roșii, carne de vită, condimente\"\n",
    "doc7 = \"Penne sau spaghete, bacon, parmezan, smântână dulce, condimente\"\n",
    "doc8 = \"Paste de casă cu sos de roșii picant ( roșii cherry, green chilli prospăt trase la tigaie în ulei de măsline extravirgin, fierte cu pulpă de roșii și fulgi de peperoncino)\"\n",
    "doc9 = \"Spaghetti (normale/integrale), somon, smantana lichida, marar, parmezan, sare, piper\"\n",
    "doc10 = \"Tagliatelle, pui, usturoi, ciuperci, baby spanac, parmesan, smântână lichidă, sare, piper\"\n",
    "\n",
    "docs = [doc1, doc2, doc3, doc4, doc5, doc6, doc7, doc8, doc9, doc10]"
   ]
  },
  {
   "cell_type": "code",
   "execution_count": 4,
   "id": "29b791db-3f10-4c93-8fbf-04e4fc54f4a2",
   "metadata": {},
   "outputs": [],
   "source": [
    "tokens1 = tokenizer.encode(doc1, add_special_tokens=True, return_tensors=\"pt\")\n",
    "embeddings1 = model(tokens1)[0]\n",
    "tokens2 = tokenizer.encode(doc2, add_special_tokens=True, return_tensors=\"pt\")\n",
    "embeddings2 = model(tokens2)[0]\n",
    "tokens3 = tokenizer.encode(doc3, add_special_tokens=True, return_tensors=\"pt\")\n",
    "embeddings3 = model(tokens3)[0]\n",
    "tokens4 = tokenizer.encode(doc4, add_special_tokens=True, return_tensors=\"pt\")\n",
    "embeddings4 = model(tokens4)[0]\n",
    "tokens5 = tokenizer.encode(doc5, add_special_tokens=True, return_tensors=\"pt\")\n",
    "embeddings5 = model(tokens5)[0]\n",
    "\n",
    "tokens6 = tokenizer.encode(doc6, add_special_tokens=True, return_tensors=\"pt\")\n",
    "embeddings6 = model(tokens6)[0]\n",
    "tokens7 = tokenizer.encode(doc7, add_special_tokens=True, return_tensors=\"pt\")\n",
    "embeddings7 = model(tokens7)[0]\n",
    "tokens8 = tokenizer.encode(doc8, add_special_tokens=True, return_tensors=\"pt\")\n",
    "embeddings8 = model(tokens8)[0]\n",
    "tokens9 = tokenizer.encode(doc9, add_special_tokens=True, return_tensors=\"pt\")\n",
    "embeddings9 = model(tokens9)[0]\n",
    "tokens10 = tokenizer.encode(doc10, add_special_tokens=True, return_tensors=\"pt\")\n",
    "embeddings10 = model(tokens10)[0]"
   ]
  },
  {
   "cell_type": "code",
   "execution_count": 5,
   "id": "279f3db5-fe8d-4493-bb63-a78c04e57ecb",
   "metadata": {},
   "outputs": [
    {
     "data": {
      "text/plain": [
       "array([[4.893392]], dtype=float32)"
      ]
     },
     "execution_count": 5,
     "metadata": {},
     "output_type": "execute_result"
    }
   ],
   "source": [
    "euclidean_distances(\n",
    "    [np.mean(embeddings1.detach().numpy().squeeze(), axis=0)],\n",
    "    [np.mean(embeddings2.detach().numpy().squeeze(), axis=0)]\n",
    ")"
   ]
  },
  {
   "cell_type": "code",
   "execution_count": 6,
   "id": "a2d8a0e9-b694-4731-a8bf-4d337d3efa53",
   "metadata": {},
   "outputs": [
    {
     "data": {
      "text/plain": [
       "array([[5.0934534]], dtype=float32)"
      ]
     },
     "execution_count": 6,
     "metadata": {},
     "output_type": "execute_result"
    }
   ],
   "source": [
    "euclidean_distances(\n",
    "    [np.mean(embeddings2.detach().numpy().squeeze(), axis=0)],\n",
    "    [np.mean(embeddings3.detach().numpy().squeeze(), axis=0)]\n",
    ")"
   ]
  },
  {
   "cell_type": "code",
   "execution_count": 7,
   "id": "57406ac6-9e47-4a2f-9ce6-063bcf5cd80f",
   "metadata": {},
   "outputs": [
    {
     "data": {
      "text/plain": [
       "array([[4.4306054]], dtype=float32)"
      ]
     },
     "execution_count": 7,
     "metadata": {},
     "output_type": "execute_result"
    }
   ],
   "source": [
    "euclidean_distances(\n",
    "    [np.mean(embeddings3.detach().numpy().squeeze(), axis=0)],\n",
    "    [np.mean(embeddings4.detach().numpy().squeeze(), axis=0)]\n",
    ")"
   ]
  },
  {
   "cell_type": "code",
   "execution_count": 8,
   "id": "e64bbc22-125f-4654-be33-b0959525170f",
   "metadata": {},
   "outputs": [
    {
     "data": {
      "text/plain": [
       "array([[6.3659716]], dtype=float32)"
      ]
     },
     "execution_count": 8,
     "metadata": {},
     "output_type": "execute_result"
    }
   ],
   "source": [
    "euclidean_distances(\n",
    "    [np.mean(embeddings4.detach().numpy().squeeze(), axis=0)],\n",
    "    [np.mean(embeddings5.detach().numpy().squeeze(), axis=0)]\n",
    ")"
   ]
  },
  {
   "cell_type": "code",
   "execution_count": 9,
   "id": "da7c2965-b9c5-4d92-b2cb-7d76496face9",
   "metadata": {},
   "outputs": [
    {
     "data": {
      "text/plain": [
       "array([[7.8989563]], dtype=float32)"
      ]
     },
     "execution_count": 9,
     "metadata": {},
     "output_type": "execute_result"
    }
   ],
   "source": [
    "euclidean_distances(\n",
    "    [np.mean(embeddings5.detach().numpy().squeeze(), axis=0)],\n",
    "    [np.mean(embeddings6.detach().numpy().squeeze(), axis=0)]\n",
    ")"
   ]
  },
  {
   "cell_type": "code",
   "execution_count": 10,
   "id": "813f7d34-7e30-424f-979c-8900db47a9be",
   "metadata": {},
   "outputs": [
    {
     "data": {
      "text/plain": [
       "array([[7.0283046]], dtype=float32)"
      ]
     },
     "execution_count": 10,
     "metadata": {},
     "output_type": "execute_result"
    }
   ],
   "source": [
    "euclidean_distances(\n",
    "    [np.mean(embeddings6.detach().numpy().squeeze(), axis=0)],\n",
    "    [np.mean(embeddings7.detach().numpy().squeeze(), axis=0)]\n",
    ")"
   ]
  },
  {
   "cell_type": "code",
   "execution_count": 11,
   "id": "4b71ec37-17af-488d-8c2e-d7e535235aa5",
   "metadata": {},
   "outputs": [
    {
     "data": {
      "text/plain": [
       "array([[7.242952]], dtype=float32)"
      ]
     },
     "execution_count": 11,
     "metadata": {},
     "output_type": "execute_result"
    }
   ],
   "source": [
    "euclidean_distances(\n",
    "    [np.mean(embeddings10.detach().numpy().squeeze(), axis=0)],\n",
    "    [np.mean(embeddings9.detach().numpy().squeeze(), axis=0)]\n",
    ")"
   ]
  },
  {
   "cell_type": "code",
   "execution_count": 12,
   "id": "96de9029-31f8-4f6e-8443-42a0f4dcd997",
   "metadata": {},
   "outputs": [
    {
     "data": {
      "text/plain": [
       "array([[4.1295309e-07]], dtype=float32)"
      ]
     },
     "execution_count": 12,
     "metadata": {},
     "output_type": "execute_result"
    }
   ],
   "source": [
    "euclidean_distances(\n",
    "    [np.mean(embeddings10.detach().numpy().squeeze(), axis=0)],\n",
    "    [np.mean(embeddings10.detach().numpy().squeeze(), axis=0)]\n",
    ")"
   ]
  },
  {
   "cell_type": "code",
   "execution_count": 13,
   "id": "99fe6cea-0ff6-433b-a4d1-55f2dab738b5",
   "metadata": {},
   "outputs": [
    {
     "data": {
      "text/plain": [
       "array([[0.]], dtype=float32)"
      ]
     },
     "execution_count": 13,
     "metadata": {},
     "output_type": "execute_result"
    }
   ],
   "source": [
    "euclidean_distances(\n",
    "    [np.mean(embeddings1.detach().numpy().squeeze(), axis=0)],\n",
    "    [np.mean(embeddings1.detach().numpy().squeeze(), axis=0)]\n",
    ")"
   ]
  }
 ],
 "metadata": {
  "kernelspec": {
   "display_name": "product_similarities",
   "language": "python",
   "name": "product_similarities"
  },
  "language_info": {
   "codemirror_mode": {
    "name": "ipython",
    "version": 3
   },
   "file_extension": ".py",
   "mimetype": "text/x-python",
   "name": "python",
   "nbconvert_exporter": "python",
   "pygments_lexer": "ipython3",
   "version": "3.8.8"
  }
 },
 "nbformat": 4,
 "nbformat_minor": 5
}
