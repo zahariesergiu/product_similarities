{
 "cells": [
  {
   "cell_type": "code",
   "execution_count": 1,
   "id": "72d2fd8d-249b-49ec-8b24-160909b9730c",
   "metadata": {},
   "outputs": [],
   "source": [
    "from transformers import AutoTokenizer, AutoModel\n",
    "import torch\n",
    "import numpy as np\n",
    "from unidecode import unidecode\n",
    "import pandas as pd\n",
    "\n",
    "from sklearn.metrics.pairwise import euclidean_distances"
   ]
  },
  {
   "cell_type": "code",
   "execution_count": 2,
   "id": "fe018623-58c9-4385-beb0-25a75f6cc19f",
   "metadata": {},
   "outputs": [],
   "source": [
    "stopwords = np.loadtxt(\"romanian_stopwords.txt\", dtype=str)"
   ]
  },
  {
   "cell_type": "code",
   "execution_count": 3,
   "id": "00267dea-1eac-481c-8c13-a883e6e22937",
   "metadata": {},
   "outputs": [
    {
     "name": "stderr",
     "output_type": "stream",
     "text": [
      "Some weights of the model checkpoint at dumitrescustefan/bert-base-romanian-cased-v1 were not used when initializing BertModel: ['cls.predictions.transform.dense.weight', 'cls.predictions.transform.LayerNorm.bias', 'cls.predictions.decoder.bias', 'cls.predictions.transform.LayerNorm.weight', 'cls.seq_relationship.bias', 'cls.predictions.bias', 'cls.predictions.transform.dense.bias', 'cls.predictions.decoder.weight', 'cls.seq_relationship.weight']\n",
      "- This IS expected if you are initializing BertModel from the checkpoint of a model trained on another task or with another architecture (e.g. initializing a BertForSequenceClassification model from a BertForPreTraining model).\n",
      "- This IS NOT expected if you are initializing BertModel from the checkpoint of a model that you expect to be exactly identical (initializing a BertForSequenceClassification model from a BertForSequenceClassification model).\n",
      "Some weights of the model checkpoint at bert-base-multilingual-cased were not used when initializing BertModel: ['cls.predictions.transform.dense.weight', 'cls.predictions.transform.LayerNorm.bias', 'cls.predictions.transform.LayerNorm.weight', 'cls.seq_relationship.bias', 'cls.predictions.bias', 'cls.predictions.transform.dense.bias', 'cls.predictions.decoder.weight', 'cls.seq_relationship.weight']\n",
      "- This IS expected if you are initializing BertModel from the checkpoint of a model trained on another task or with another architecture (e.g. initializing a BertForSequenceClassification model from a BertForPreTraining model).\n",
      "- This IS NOT expected if you are initializing BertModel from the checkpoint of a model that you expect to be exactly identical (initializing a BertForSequenceClassification model from a BertForSequenceClassification model).\n"
     ]
    }
   ],
   "source": [
    "# load tokenizer and model using bert romanian cased model\n",
    "# https://github.com/dumitrescustefan/Romanian-Transformers\n",
    "# https://huggingface.co/dumitrescustefan/bert-base-romanian-cased-v1\n",
    "\n",
    "tokenizer = AutoTokenizer.from_pretrained(\"dumitrescustefan/bert-base-romanian-cased-v1\")\n",
    "model = AutoModel.from_pretrained(\"dumitrescustefan/bert-base-romanian-cased-v1\")\n",
    "\n",
    "tokenizer2 = AutoTokenizer.from_pretrained(\"bert-base-multilingual-cased\")\n",
    "model2 = AutoModel.from_pretrained(\"bert-base-multilingual-cased\")"
   ]
  },
  {
   "cell_type": "code",
   "execution_count": 4,
   "id": "e3376ceb-edb0-4652-b4c1-44f3581781f2",
   "metadata": {},
   "outputs": [],
   "source": [
    "doc1= \"Sos roșii, mozzarella, sare de mare, blat crocant la foc cu lemne\"\n",
    "doc2 = \"Sos de roșii, mozzarella, șuncă, porumb, măsline, ciuperci, condimente\"\n",
    "doc3 = \"Sos de roșii, mozzarella, salam picant, gorgonzola, hribi\"\n",
    "doc4 = \"Sos de roșii, mozzarella, salam, condimente\"\n",
    "doc5 = \"Sos de roșii, mozzarella, salam picant, gorgonzola, ceapă roșie, peperoncini\"\n",
    "\n",
    "doc6 = \"Penne, sos de roșii, carne de vită, condimente\"\n",
    "doc7 = \"Penne sau spaghete, bacon, parmezan, smântână dulce, condimente\"\n",
    "doc8 = \"Paste de casă cu sos de roșii picant ( roșii cherry, green chilli prospăt trase la tigaie în ulei de măsline extravirgin, fierte cu pulpă de roșii și fulgi de peperoncino)\"\n",
    "doc9 = \"Spaghetti (normale/integrale), somon, smantana lichida, marar, parmezan, sare, piper\"\n",
    "doc10 = \"Tagliatelle, pui, usturoi, ciuperci, baby spanac, parmesan, smântână lichidă, sare, piper\"\n",
    "\n",
    "docs = [doc1, doc2, doc3, doc4, doc5, doc6, doc7, doc8, doc9, doc10]"
   ]
  },
  {
   "cell_type": "code",
   "execution_count": 5,
   "id": "8689e96e-5fd6-46c1-aad8-0f7ba52fb69e",
   "metadata": {},
   "outputs": [
    {
     "data": {
      "text/plain": [
       "['sos rosii mozzarella sare mare blat crocant foc lemne',\n",
       " 'sos rosii mozzarella sunca porumb masline ciuperci condimente',\n",
       " 'sos rosii mozzarella salam picant gorgonzola hribi',\n",
       " 'sos rosii mozzarella salam condimente',\n",
       " 'sos rosii mozzarella salam picant gorgonzola ceapa rosie peperoncini',\n",
       " 'penne sos rosii carne vita condimente',\n",
       " 'penne spaghete bacon parmezan smantana dulce condimente',\n",
       " 'paste casa sos rosii picant  rosii cherry green chilli prospat trase tigaie ulei masline extravirgin fierte pulpa rosii fulgi peperoncino',\n",
       " 'spaghetti normale integrale somon smantana lichida marar parmezan sare piper',\n",
       " 'tagliatelle pui usturoi ciuperci baby spanac parmesan smantana lichida sare piper']"
      ]
     },
     "execution_count": 5,
     "metadata": {},
     "output_type": "execute_result"
    }
   ],
   "source": [
    "stopwords = np.loadtxt(\"romanian_stopwords.txt\", dtype=str)\n",
    "def preprocess(tokens):\n",
    "    new_tokens = []\n",
    "    tokens = unidecode(tokens)\n",
    "    for token in tokens.split():\n",
    "        token = token.lower()\n",
    "        if token in stopwords:\n",
    "            continue\n",
    "        token = ''.join(c if c.isalpha() else ' ' for c in token)\n",
    "        if token:\n",
    "            new_tokens.append(token.strip())\n",
    "    return \" \".join(new_tokens)\n",
    "\n",
    "preprocess_docs = []\n",
    "for doc in docs:\n",
    "    preprocess_docs.append(preprocess(doc))\n",
    "preprocess_docs"
   ]
  },
  {
   "cell_type": "code",
   "execution_count": 6,
   "id": "9e7d578a-6435-4df9-b3d6-06531c2b7700",
   "metadata": {},
   "outputs": [],
   "source": [
    "embeddings = []\n",
    "for doc in preprocess_docs:\n",
    "    _tokens = tokenizer2.encode(doc, add_special_tokens=True, return_tensors=\"pt\")\n",
    "    _tokens_embeddings = model2(_tokens)[0]\n",
    "    _tokens_embeddings_mean = np.mean(_tokens_embeddings.detach().numpy().squeeze(), axis=0)\n",
    "    embeddings.append(_tokens_embeddings_mean)\n",
    "embeddings = np.array(embeddings)"
   ]
  },
  {
   "cell_type": "code",
   "execution_count": 7,
   "id": "99fe6cea-0ff6-433b-a4d1-55f2dab738b5",
   "metadata": {},
   "outputs": [
    {
     "data": {
      "text/plain": [
       "array([[5.7212086]], dtype=float32)"
      ]
     },
     "execution_count": 7,
     "metadata": {},
     "output_type": "execute_result"
    }
   ],
   "source": [
    "euclidean_distances(\n",
    "    [embeddings[0]], \n",
    "    [embeddings[1]]\n",
    ")"
   ]
  },
  {
   "cell_type": "code",
   "execution_count": 8,
   "id": "d12ed4e8-466e-4fbb-8d92-f9e6afa1a4c2",
   "metadata": {},
   "outputs": [
    {
     "data": {
      "text/html": [
       "<div>\n",
       "<style scoped>\n",
       "    .dataframe tbody tr th:only-of-type {\n",
       "        vertical-align: middle;\n",
       "    }\n",
       "\n",
       "    .dataframe tbody tr th {\n",
       "        vertical-align: top;\n",
       "    }\n",
       "\n",
       "    .dataframe thead th {\n",
       "        text-align: right;\n",
       "    }\n",
       "</style>\n",
       "<table border=\"1\" class=\"dataframe\">\n",
       "  <thead>\n",
       "    <tr style=\"text-align: right;\">\n",
       "      <th></th>\n",
       "      <th>0</th>\n",
       "      <th>1</th>\n",
       "      <th>2</th>\n",
       "      <th>3</th>\n",
       "      <th>4</th>\n",
       "      <th>5</th>\n",
       "      <th>6</th>\n",
       "      <th>7</th>\n",
       "      <th>8</th>\n",
       "      <th>9</th>\n",
       "    </tr>\n",
       "  </thead>\n",
       "  <tbody>\n",
       "    <tr>\n",
       "      <th>0</th>\n",
       "      <td>0.00</td>\n",
       "      <td>5.72</td>\n",
       "      <td>5.35</td>\n",
       "      <td>7.76</td>\n",
       "      <td>5.93</td>\n",
       "      <td>7.53</td>\n",
       "      <td>7.72</td>\n",
       "      <td>5.78</td>\n",
       "      <td>7.07</td>\n",
       "      <td>6.15</td>\n",
       "    </tr>\n",
       "    <tr>\n",
       "      <th>1</th>\n",
       "      <td>5.72</td>\n",
       "      <td>0.00</td>\n",
       "      <td>4.93</td>\n",
       "      <td>6.22</td>\n",
       "      <td>5.53</td>\n",
       "      <td>6.48</td>\n",
       "      <td>7.02</td>\n",
       "      <td>5.46</td>\n",
       "      <td>7.04</td>\n",
       "      <td>6.13</td>\n",
       "    </tr>\n",
       "    <tr>\n",
       "      <th>2</th>\n",
       "      <td>5.35</td>\n",
       "      <td>4.93</td>\n",
       "      <td>0.00</td>\n",
       "      <td>6.95</td>\n",
       "      <td>4.12</td>\n",
       "      <td>7.36</td>\n",
       "      <td>7.43</td>\n",
       "      <td>5.92</td>\n",
       "      <td>7.01</td>\n",
       "      <td>6.34</td>\n",
       "    </tr>\n",
       "    <tr>\n",
       "      <th>3</th>\n",
       "      <td>7.76</td>\n",
       "      <td>6.22</td>\n",
       "      <td>6.95</td>\n",
       "      <td>0.00</td>\n",
       "      <td>7.03</td>\n",
       "      <td>7.45</td>\n",
       "      <td>6.68</td>\n",
       "      <td>8.38</td>\n",
       "      <td>9.13</td>\n",
       "      <td>9.06</td>\n",
       "    </tr>\n",
       "    <tr>\n",
       "      <th>4</th>\n",
       "      <td>5.93</td>\n",
       "      <td>5.53</td>\n",
       "      <td>4.12</td>\n",
       "      <td>7.03</td>\n",
       "      <td>0.00</td>\n",
       "      <td>7.20</td>\n",
       "      <td>7.62</td>\n",
       "      <td>6.02</td>\n",
       "      <td>7.10</td>\n",
       "      <td>6.43</td>\n",
       "    </tr>\n",
       "    <tr>\n",
       "      <th>5</th>\n",
       "      <td>7.53</td>\n",
       "      <td>6.48</td>\n",
       "      <td>7.36</td>\n",
       "      <td>7.45</td>\n",
       "      <td>7.20</td>\n",
       "      <td>0.00</td>\n",
       "      <td>7.44</td>\n",
       "      <td>7.00</td>\n",
       "      <td>8.10</td>\n",
       "      <td>8.14</td>\n",
       "    </tr>\n",
       "    <tr>\n",
       "      <th>6</th>\n",
       "      <td>7.72</td>\n",
       "      <td>7.02</td>\n",
       "      <td>7.43</td>\n",
       "      <td>6.68</td>\n",
       "      <td>7.62</td>\n",
       "      <td>7.44</td>\n",
       "      <td>0.00</td>\n",
       "      <td>7.68</td>\n",
       "      <td>7.01</td>\n",
       "      <td>7.31</td>\n",
       "    </tr>\n",
       "    <tr>\n",
       "      <th>7</th>\n",
       "      <td>5.78</td>\n",
       "      <td>5.46</td>\n",
       "      <td>5.92</td>\n",
       "      <td>8.38</td>\n",
       "      <td>6.02</td>\n",
       "      <td>7.00</td>\n",
       "      <td>7.68</td>\n",
       "      <td>0.00</td>\n",
       "      <td>7.01</td>\n",
       "      <td>5.98</td>\n",
       "    </tr>\n",
       "    <tr>\n",
       "      <th>8</th>\n",
       "      <td>7.07</td>\n",
       "      <td>7.04</td>\n",
       "      <td>7.01</td>\n",
       "      <td>9.13</td>\n",
       "      <td>7.10</td>\n",
       "      <td>8.10</td>\n",
       "      <td>7.01</td>\n",
       "      <td>7.01</td>\n",
       "      <td>0.00</td>\n",
       "      <td>5.15</td>\n",
       "    </tr>\n",
       "    <tr>\n",
       "      <th>9</th>\n",
       "      <td>6.15</td>\n",
       "      <td>6.13</td>\n",
       "      <td>6.34</td>\n",
       "      <td>9.06</td>\n",
       "      <td>6.43</td>\n",
       "      <td>8.14</td>\n",
       "      <td>7.31</td>\n",
       "      <td>5.98</td>\n",
       "      <td>5.15</td>\n",
       "      <td>0.00</td>\n",
       "    </tr>\n",
       "  </tbody>\n",
       "</table>\n",
       "</div>"
      ],
      "text/plain": [
       "     0    1    2    3    4    5    6    7    8    9\n",
       "0 0.00 5.72 5.35 7.76 5.93 7.53 7.72 5.78 7.07 6.15\n",
       "1 5.72 0.00 4.93 6.22 5.53 6.48 7.02 5.46 7.04 6.13\n",
       "2 5.35 4.93 0.00 6.95 4.12 7.36 7.43 5.92 7.01 6.34\n",
       "3 7.76 6.22 6.95 0.00 7.03 7.45 6.68 8.38 9.13 9.06\n",
       "4 5.93 5.53 4.12 7.03 0.00 7.20 7.62 6.02 7.10 6.43\n",
       "5 7.53 6.48 7.36 7.45 7.20 0.00 7.44 7.00 8.10 8.14\n",
       "6 7.72 7.02 7.43 6.68 7.62 7.44 0.00 7.68 7.01 7.31\n",
       "7 5.78 5.46 5.92 8.38 6.02 7.00 7.68 0.00 7.01 5.98\n",
       "8 7.07 7.04 7.01 9.13 7.10 8.10 7.01 7.01 0.00 5.15\n",
       "9 6.15 6.13 6.34 9.06 6.43 8.14 7.31 5.98 5.15 0.00"
      ]
     },
     "execution_count": 8,
     "metadata": {},
     "output_type": "execute_result"
    }
   ],
   "source": [
    "pd.options.display.float_format = \"{:,.2f}\".format\n",
    "pd.DataFrame(euclidean_distances(embeddings, embeddings))    "
   ]
  }
 ],
 "metadata": {
  "kernelspec": {
   "display_name": "product_similarities",
   "language": "python",
   "name": "product_similarities"
  },
  "language_info": {
   "codemirror_mode": {
    "name": "ipython",
    "version": 3
   },
   "file_extension": ".py",
   "mimetype": "text/x-python",
   "name": "python",
   "nbconvert_exporter": "python",
   "pygments_lexer": "ipython3",
   "version": "3.8.8"
  }
 },
 "nbformat": 4,
 "nbformat_minor": 5
}
